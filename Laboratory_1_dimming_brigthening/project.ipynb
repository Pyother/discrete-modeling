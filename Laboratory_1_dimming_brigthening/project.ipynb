{
 "cells": [
  {
   "cell_type": "code",
   "execution_count": null,
   "metadata": {},
   "outputs": [],
   "source": [
    "from cgitb import text\n",
    "import cv2\n",
    "import numpy as np\n",
    "from matplotlib import pyplot as plt\n",
    "from mpl_toolkits.mplot3d import Axes3D\n",
    "from PIL import ImageTk, Image\n",
    "from tkinter import *\n",
    "from tkinter import ttk\n",
    "\n",
    "# Read and show the image:\n",
    "img = cv2.imread('resources\\\\terrain_map_01.png')\n",
    "plt.imshow(img)\n",
    "plt.show()\n",
    "\n",
    "# Function for brightening:\n",
    "def brightening(img, thresh):\n",
    "        return((img > thresh) * 255).astype(\"uint8\")\n",
    "\n",
    "# Function for dimming:\n",
    "def dimming(img, thresh):\n",
    "        return((img < thresh) * 255).astype(\"uint8\")\n",
    "\n",
    "# Function for finding binarization threshold:\n",
    "def threshold(img, thresh):\n",
    "        return((img == thresh) * 255).astype(\"uint8\")\n",
    "\n",
    "# Function for finding binarization threshold (reverse):\n",
    "def reverse_threshold(img, thresh):\n",
    "        return((img == thresh) * 255).astype(\"uint8\")\n",
    "\n",
    "# Usage:\n",
    "def display(value):\n",
    "        plt.imshow(reverse_threshold(img, value), cmap='gray')\n",
    "        plt.show()\n",
    "\n",
    "def get_value():\n",
    "        print(slider.get())\n",
    "        display(slider.get())\n",
    "\n",
    "root = Tk()\n",
    "root.geometry(\"600x120\")\n",
    "\n",
    "label = Label(root, width=600, text='Za pomocą skali można ustawić wartość progu binaryzacji dla wczytanego obrazu.')\n",
    "label.pack()\n",
    "\n",
    "slider = Scale(root, length=500, from_=0, to=255, \n",
    "        tickinterval=20, orient=HORIZONTAL, troughcolor='#ffffff',\n",
    "        activebackground='#000000')\n",
    "slider.pack()\n",
    "\n",
    "button = Button(root, text=\"Wyświetl zdjęcie\", command=get_value)\n",
    "button.pack()\n",
    "\n",
    "root.mainloop()"
   ]
  },
  {
   "cell_type": "code",
   "execution_count": null,
   "metadata": {},
   "outputs": [],
   "source": []
  }
 ],
 "metadata": {
  "kernelspec": {
   "display_name": "Python 3.10.6 64-bit (microsoft store)",
   "language": "python",
   "name": "python3"
  },
  "language_info": {
   "codemirror_mode": {
    "name": "ipython",
    "version": 3
   },
   "file_extension": ".py",
   "mimetype": "text/x-python",
   "name": "python",
   "nbconvert_exporter": "python",
   "pygments_lexer": "ipython3",
   "version": "3.10.8"
  },
  "orig_nbformat": 4,
  "vscode": {
   "interpreter": {
    "hash": "0e1d93a7bbc0653bd8b1787449b80bd1b5fea6a19241c576ffee3f48653a995e"
   }
  }
 },
 "nbformat": 4,
 "nbformat_minor": 2
}
